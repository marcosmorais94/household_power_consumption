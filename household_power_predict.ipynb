{
 "cells": [
  {
   "cell_type": "markdown",
   "id": "411f3c4d",
   "metadata": {},
   "source": [
    "# PROJETO ANÁLISE PREDITIVA - CONSUMO ENERGIA ELÉTRICA"
   ]
  },
  {
   "cell_type": "markdown",
   "id": "760c0249",
   "metadata": {},
   "source": [
    "O objetivo dessa análise preditiva é identificar os grupos de consumidores com a técnica de aprendizagem não supervisionada, ou seja, identificar os clusters presentes no dataset. Este é um projeto prático feito ao longo do curso Data Science Academy e que foi aperfeiçoado antes da publicação no GitHub. \n",
    "\n",
    "Temos um dataset com o consumo de energia elétrica dos últimos 4 anos no nível doméstico. \n",
    "A fonte dos dados é: https://archive.ics.uci.edu/ml/datasets/Individual+household+electric+power+consumption"
   ]
  },
  {
   "cell_type": "markdown",
   "id": "db8fe6bf",
   "metadata": {},
   "source": [
    "## 1 - Carga de Pacotes"
   ]
  },
  {
   "cell_type": "markdown",
   "id": "2d7bffd9",
   "metadata": {},
   "source": [
    "Nesta seção será carregados todos os pacotes necessários para a execução do script em Python."
   ]
  },
  {
   "cell_type": "code",
   "execution_count": 1,
   "id": "61f1f38c",
   "metadata": {},
   "outputs": [],
   "source": [
    "# Imports\n",
    "import pandas as pd\n",
    "import numpy as np\n",
    "import matplotlib.pyplot as plt\n",
    "from matplotlib import pylab\n",
    "from sklearn.cluster import KMeans\n",
    "from sklearn.decomposition import PCA\n",
    "from sklearn.model_selection import train_test_split\n",
    "from scipy.spatial.distance import cdist, pdist\n",
    "from sklearn.metrics import silhouette_score\n",
    "import warnings\n",
    "warnings.filterwarnings(\"ignore\")\n",
    "%matplotlib inline"
   ]
  },
  {
   "cell_type": "markdown",
   "id": "2bab0eb2",
   "metadata": {},
   "source": [
    "## 2 - Carga dos Dados"
   ]
  },
  {
   "cell_type": "markdown",
   "id": "c5d39ba0",
   "metadata": {},
   "source": [
    "Nesta seção será feita a carga dos dados disponibilizados pelo UCI."
   ]
  },
  {
   "cell_type": "code",
   "execution_count": 5,
   "id": "086e87cf",
   "metadata": {},
   "outputs": [
    {
     "data": {
      "text/html": [
       "<div>\n",
       "<style scoped>\n",
       "    .dataframe tbody tr th:only-of-type {\n",
       "        vertical-align: middle;\n",
       "    }\n",
       "\n",
       "    .dataframe tbody tr th {\n",
       "        vertical-align: top;\n",
       "    }\n",
       "\n",
       "    .dataframe thead th {\n",
       "        text-align: right;\n",
       "    }\n",
       "</style>\n",
       "<table border=\"1\" class=\"dataframe\">\n",
       "  <thead>\n",
       "    <tr style=\"text-align: right;\">\n",
       "      <th></th>\n",
       "      <th>Date</th>\n",
       "      <th>Time</th>\n",
       "      <th>Global_active_power</th>\n",
       "      <th>Global_reactive_power</th>\n",
       "      <th>Voltage</th>\n",
       "      <th>Global_intensity</th>\n",
       "      <th>Sub_metering_1</th>\n",
       "      <th>Sub_metering_2</th>\n",
       "      <th>Sub_metering_3</th>\n",
       "    </tr>\n",
       "  </thead>\n",
       "  <tbody>\n",
       "    <tr>\n",
       "      <th>0</th>\n",
       "      <td>16/12/2006</td>\n",
       "      <td>17:24:00</td>\n",
       "      <td>4.216</td>\n",
       "      <td>0.418</td>\n",
       "      <td>234.840</td>\n",
       "      <td>18.400</td>\n",
       "      <td>0.000</td>\n",
       "      <td>1.000</td>\n",
       "      <td>17.0</td>\n",
       "    </tr>\n",
       "    <tr>\n",
       "      <th>1</th>\n",
       "      <td>16/12/2006</td>\n",
       "      <td>17:25:00</td>\n",
       "      <td>5.360</td>\n",
       "      <td>0.436</td>\n",
       "      <td>233.630</td>\n",
       "      <td>23.000</td>\n",
       "      <td>0.000</td>\n",
       "      <td>1.000</td>\n",
       "      <td>16.0</td>\n",
       "    </tr>\n",
       "    <tr>\n",
       "      <th>2</th>\n",
       "      <td>16/12/2006</td>\n",
       "      <td>17:26:00</td>\n",
       "      <td>5.374</td>\n",
       "      <td>0.498</td>\n",
       "      <td>233.290</td>\n",
       "      <td>23.000</td>\n",
       "      <td>0.000</td>\n",
       "      <td>2.000</td>\n",
       "      <td>17.0</td>\n",
       "    </tr>\n",
       "    <tr>\n",
       "      <th>3</th>\n",
       "      <td>16/12/2006</td>\n",
       "      <td>17:27:00</td>\n",
       "      <td>5.388</td>\n",
       "      <td>0.502</td>\n",
       "      <td>233.740</td>\n",
       "      <td>23.000</td>\n",
       "      <td>0.000</td>\n",
       "      <td>1.000</td>\n",
       "      <td>17.0</td>\n",
       "    </tr>\n",
       "    <tr>\n",
       "      <th>4</th>\n",
       "      <td>16/12/2006</td>\n",
       "      <td>17:28:00</td>\n",
       "      <td>3.666</td>\n",
       "      <td>0.528</td>\n",
       "      <td>235.680</td>\n",
       "      <td>15.800</td>\n",
       "      <td>0.000</td>\n",
       "      <td>1.000</td>\n",
       "      <td>17.0</td>\n",
       "    </tr>\n",
       "  </tbody>\n",
       "</table>\n",
       "</div>"
      ],
      "text/plain": [
       "         Date      Time Global_active_power Global_reactive_power  Voltage  \\\n",
       "0  16/12/2006  17:24:00               4.216                 0.418  234.840   \n",
       "1  16/12/2006  17:25:00               5.360                 0.436  233.630   \n",
       "2  16/12/2006  17:26:00               5.374                 0.498  233.290   \n",
       "3  16/12/2006  17:27:00               5.388                 0.502  233.740   \n",
       "4  16/12/2006  17:28:00               3.666                 0.528  235.680   \n",
       "\n",
       "  Global_intensity Sub_metering_1 Sub_metering_2  Sub_metering_3  \n",
       "0           18.400          0.000          1.000            17.0  \n",
       "1           23.000          0.000          1.000            16.0  \n",
       "2           23.000          0.000          2.000            17.0  \n",
       "3           23.000          0.000          1.000            17.0  \n",
       "4           15.800          0.000          1.000            17.0  "
      ]
     },
     "execution_count": 5,
     "metadata": {},
     "output_type": "execute_result"
    }
   ],
   "source": [
    "# Carregando os dados\n",
    "bd_power_consumption = pd.read_csv('dados/household_power_consumption.txt', delimiter = ';', low_memory = False)\n",
    "bd_power_consumption.head()"
   ]
  },
  {
   "cell_type": "markdown",
   "id": "2b13898b",
   "metadata": {},
   "source": [
    "## 3 - Análise Explorátoria"
   ]
  },
  {
   "cell_type": "markdown",
   "id": "e22c4477",
   "metadata": {},
   "source": [
    "Seção destinada a uma breve análise exploratória dos dados para um melhor entedimento relacionado a relação das variáveis."
   ]
  },
  {
   "cell_type": "code",
   "execution_count": 7,
   "id": "3873a582",
   "metadata": {},
   "outputs": [
    {
     "data": {
      "text/plain": [
       "Date                      object\n",
       "Time                      object\n",
       "Global_active_power       object\n",
       "Global_reactive_power     object\n",
       "Voltage                   object\n",
       "Global_intensity          object\n",
       "Sub_metering_1            object\n",
       "Sub_metering_2            object\n",
       "Sub_metering_3           float64\n",
       "dtype: object"
      ]
     },
     "execution_count": 7,
     "metadata": {},
     "output_type": "execute_result"
    }
   ],
   "source": [
    "# Verifica os tipos de dados\n",
    "# Dados estão como Object, como será feito o uso do PCA não é necessário alterara o tipo ao menos nesse momento da análise\n",
    "bd_power_consumption.dtypes"
   ]
  },
  {
   "cell_type": "code",
   "execution_count": 9,
   "id": "fc06e38f",
   "metadata": {},
   "outputs": [
    {
     "data": {
      "text/plain": [
       "(2075259, 9)"
      ]
     },
     "execution_count": 9,
     "metadata": {},
     "output_type": "execute_result"
    }
   ],
   "source": [
    "# Verifica o shape da base\n",
    "# Confirma que todos os dados foram carredados\n",
    "bd_power_consumption.shape"
   ]
  },
  {
   "cell_type": "code",
   "execution_count": null,
   "id": "770205ee",
   "metadata": {},
   "outputs": [],
   "source": [
    "# Verifica se há valores nulos\n",
    "dataset.isnull().values.any()"
   ]
  },
  {
   "cell_type": "markdown",
   "id": "531280e7",
   "metadata": {},
   "source": [
    "# 4 - Pré-Processamento dos Dados"
   ]
  },
  {
   "cell_type": "markdown",
   "id": "c2efc964",
   "metadata": {},
   "source": [
    "Seção destinada ao Pré-Processamento dos dados, como uso de PCA e normalização dos dados."
   ]
  },
  {
   "cell_type": "code",
   "execution_count": null,
   "id": "9ab30a9b",
   "metadata": {},
   "outputs": [],
   "source": []
  },
  {
   "cell_type": "code",
   "execution_count": null,
   "id": "3d7c842d",
   "metadata": {},
   "outputs": [],
   "source": []
  },
  {
   "cell_type": "markdown",
   "id": "4320049a",
   "metadata": {},
   "source": [
    "# 5 - Modelo Preditivo"
   ]
  },
  {
   "cell_type": "markdown",
   "id": "d60901a7",
   "metadata": {},
   "source": [
    "Aplicação do modelo preditivo para identificação dos clusters"
   ]
  },
  {
   "cell_type": "code",
   "execution_count": null,
   "id": "2e7a6479",
   "metadata": {},
   "outputs": [],
   "source": []
  },
  {
   "cell_type": "code",
   "execution_count": null,
   "id": "f7513771",
   "metadata": {},
   "outputs": [],
   "source": []
  },
  {
   "cell_type": "code",
   "execution_count": null,
   "id": "6ab18c5c",
   "metadata": {},
   "outputs": [],
   "source": []
  },
  {
   "cell_type": "markdown",
   "id": "6c60b32f",
   "metadata": {},
   "source": [
    "# 6 - Análise dos Resultados"
   ]
  },
  {
   "cell_type": "code",
   "execution_count": null,
   "id": "8463dbe2",
   "metadata": {},
   "outputs": [],
   "source": []
  },
  {
   "cell_type": "code",
   "execution_count": null,
   "id": "aa802813",
   "metadata": {},
   "outputs": [],
   "source": []
  }
 ],
 "metadata": {
  "kernelspec": {
   "display_name": "Python 3 (ipykernel)",
   "language": "python",
   "name": "python3"
  },
  "language_info": {
   "codemirror_mode": {
    "name": "ipython",
    "version": 3
   },
   "file_extension": ".py",
   "mimetype": "text/x-python",
   "name": "python",
   "nbconvert_exporter": "python",
   "pygments_lexer": "ipython3",
   "version": "3.11.1"
  }
 },
 "nbformat": 4,
 "nbformat_minor": 5
}
